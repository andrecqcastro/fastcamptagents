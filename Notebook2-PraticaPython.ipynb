{
 "cells": [
  {
   "cell_type": "markdown",
   "id": "4e1e4e63",
   "metadata": {},
   "source": [
    "# ReAct Agent - Código Python com Anotações de Estudo\n"
   ]
  },
  {
   "cell_type": "markdown",
   "id": "1a2b62c5",
   "metadata": {},
   "source": [
    "Este notebook foi desenvolvido baseado no tutorial indicado no Fastcamp de Agentes Inteligentes: https://www.youtube.com/watch?v=hKVhRA9kfeM\n"
   ]
  },
  {
   "cell_type": "code",
   "execution_count": null,
   "id": "12542dea",
   "metadata": {},
   "outputs": [],
   "source": [
    "# Instale as bibliotecas necessárias\n",
    "%pip install groq python-dotenv "
   ]
  },
  {
   "cell_type": "code",
   "execution_count": 3,
   "id": "6656a0e6",
   "metadata": {},
   "outputs": [],
   "source": [
    "import os\n",
    "import re\n",
    "from groq import Groq\n",
    "from dotenv import load_dotenv"
   ]
  },
  {
   "cell_type": "code",
   "execution_count": 4,
   "id": "7c043094",
   "metadata": {},
   "outputs": [],
   "source": [
    "# Carrega as variáveis do arquivo .env\n",
    "load_dotenv()\n",
    "\n",
    "# Cria cliente da API Groq\n",
    "client = Groq(\n",
    "    api_key=os.environ.get(\"GROQ_API_KEY\"),\n",
    ")"
   ]
  },
  {
   "cell_type": "code",
   "execution_count": 5,
   "id": "aec7c516",
   "metadata": {},
   "outputs": [],
   "source": [
    "# Classe Agent original\n",
    "class Agent:\n",
    "    def __init__(self, client, system):\n",
    "        self.client = client  # Cliente da API\n",
    "        self.system = system  # System prompt\n",
    "        self.messages = []    # Histórico da conversa\n",
    "        # Adiciona o system prompt como primeira mensagem\n",
    "        if self.system is not None:\n",
    "            self.messages.append({\"role\": \"system\", \"content\": self.system})\n",
    "    \n",
    "    def __call__(self, message=\"\"):\n",
    "        # Permite chamar o agente como função: agent(\"pergunta\")\n",
    "        if message:\n",
    "            self.messages.append({\"role\": \"user\", \"content\": message})\n",
    "        result = self.execute()\n",
    "        self.messages.append({\"role\": \"assistant\", \"content\": result})\n",
    "        return result\n",
    "    \n",
    "    def execute(self):\n",
    "        # Faz a chamada para a API e retorna a resposta\n",
    "        completion = self.client.chat.completions.create(\n",
    "            messages=self.messages,\n",
    "            model=\"llama-3.3-70b-versatile\"     \n",
    "        )\n",
    "        return completion.choices[0].message.content"
   ]
  },
  {
   "cell_type": "markdown",
   "id": "64cda5d7",
   "metadata": {},
   "source": [
    "**Observação:** Para expandir minha prática, decidi trabalhar em um domínio diferente do abordado na videoaula. No meu código, usarei tools e um system prompt focado em tirar dúvidas sobre as tarefas do Fastcamp de Agentes Inteligentes."
   ]
  },
  {
   "cell_type": "code",
   "execution_count": 6,
   "id": "54ab69a2",
   "metadata": {},
   "outputs": [],
   "source": [
    "# System prompt modificado para as novas tools\n",
    "system_prompt = \"\"\"\n",
    "You run in a loop of Thought, Action, PAUSE, Observation.\n",
    "At the end of the loop you output an Answer\n",
    "Use Thought to describe your thoughts about the question you have been asked.\n",
    "Use Action to run one of the actions available to you - then return PAUSE.\n",
    "Observation will be the result of running those actions.\n",
    "\n",
    "Your available actions are:\n",
    "\n",
    "get_activity_title:\n",
    "e.g. get_activity_title: 1\n",
    "Returns the title of the activity from Fastcamp de Agentes Inteligentes based on the number\n",
    "\n",
    "get_activity_deadline:\n",
    "e.g. get_activity_deadline: Vídeo: Fundamentos de Agentes de IA (I)\n",
    "Returns the deadline for the activity based on its title\n",
    "\n",
    "Example session:\n",
    "\n",
    "Question: What is the deadline for activity 1?\n",
    "Thought: I need to first get the title of activity 1, then find its deadline\n",
    "Action: get_activity_title: 1\n",
    "PAUSE \n",
    "\n",
    "You will be called again with this:\n",
    "\n",
    "Observation: Vídeo: Fundamentos de Agentes de IA (I)\n",
    "\n",
    "Thought: Now I need to get the deadline for this activity\n",
    "Action: get_activity_deadline: Vídeo: Fundamentos de Agentes de IA (I)\n",
    "PAUSE\n",
    "\n",
    "You will be called again with this: \n",
    "\n",
    "Observation: 2 dias\n",
    "\n",
    "If you have the answer, output it as the Answer.\n",
    "\n",
    "Answer: The deadline for activity 1 is 2 days.\n",
    "\n",
    "Now it's your turn:\n",
    "\"\"\".strip()"
   ]
  },
  {
   "cell_type": "code",
   "execution_count": 7,
   "id": "d92cf356",
   "metadata": {},
   "outputs": [],
   "source": [
    "# Novas tools para o Fastcamp\n",
    "def get_activity_title(activity_number: str) -> str:\n",
    "    # Mapeia número da atividade para o título\n",
    "    activities = {\n",
    "        \"1\": \"Vídeo: Fundamentos de Agentes de IA (I)\",\n",
    "        \"2\": \"Prática: Python: Criando um ReAct Agent do Zero (I)\",\n",
    "        \"3\": \"Prática: Validação de dados com Pydantic (I)\",\n",
    "        \"4\": \"Vídeo: Introdução ao n8n (II)\",\n",
    "        \"5\": \"Prática: Construindo um fluxo n8n(II)\",\n",
    "        \"6\": \"Prática: Embedding (II)\",\n",
    "        \"7\": \"Leitura: n8n (II)\",\n",
    "        \"8\": \"Pratica: Agentes com Google ADK (III)\",\n",
    "        \"9\": \"Leitura: Construindo Agentes Google ADK(III)\",\n",
    "        \"10\": \"Pratica: Multi Agentes com ADK (III)\",\n",
    "        \"11\": \"Prática: Criando agentes com ADK e Streamlit (IV)\",\n",
    "        \"12\": \"Prática: Criando agentes com n8n, ADK e Whatsapp (IV)\",\n",
    "        \"13\": \"Desafio: Orquestrando Agentes com Google ADK (IV)\",\n",
    "        \"14\": \"Prática: Projeto Final (V)\"\n",
    "    }\n",
    "    return activities.get(activity_number, \"Atividade não encontrada\")\n",
    "\n",
    "def get_activity_deadline(activity_title: str) -> str:\n",
    "    # Mapeia título da atividade para o prazo\n",
    "    deadlines = {\n",
    "        \"Vídeo: Fundamentos de Agentes de IA (I)\": \"2 dias\",\n",
    "        \"Prática: Python: Criando um ReAct Agent do Zero (I)\": \"4 dias\",\n",
    "        \"Prática: Validação de dados com Pydantic (I)\": \"4 dias\",\n",
    "        \"Vídeo: Introdução ao n8n (II)\": \"3 dias\",\n",
    "        \"Prática: Construindo um fluxo n8n(II)\": \"3 dias\",\n",
    "        \"Prática: Embedding (II)\": \"3 dias\",\n",
    "        \"Leitura: n8n (II)\": \"3 dias\",\n",
    "        \"Pratica: Agentes com Google ADK (III)\": \"4 dias\",\n",
    "        \"Leitura: Construindo Agentes Google ADK(III)\": \"2 dias\",\n",
    "        \"Pratica: Multi Agentes com ADK (III)\": \"4 dias\",\n",
    "        \"Prática: Criando agentes com ADK e Streamlit (IV)\": \"4 dias\",\n",
    "        \"Prática: Criando agentes com n8n, ADK e Whatsapp (IV)\": \"3 dias\",\n",
    "        \"Desafio: Orquestrando Agentes com Google ADK (IV)\": \"5 dias\",\n",
    "        \"Prática: Projeto Final (V)\": \"7 dias\"\n",
    "    }\n",
    "    return deadlines.get(activity_title, \"Prazo não encontrado\")"
   ]
  },
  {
   "cell_type": "code",
   "execution_count": 8,
   "id": "9aab63f5",
   "metadata": {},
   "outputs": [],
   "source": [
    "# Função loop original com as novas tools\n",
    "def loop(max_iterations=10, query: str = \"\"):\n",
    "    # Cria novo agente para cada consulta\n",
    "    agent = Agent(client=client, system=system_prompt)\n",
    "    # Lista das ferramentas disponíveis\n",
    "    tools = [\"get_activity_title\", \"get_activity_deadline\"]\n",
    "    next_prompt = query\n",
    "    i = 0\n",
    "  \n",
    "    while i < max_iterations:\n",
    "        i += 1\n",
    "        # Envia mensagem para o agente\n",
    "        result = agent(next_prompt)\n",
    "        print(result)\n",
    "\n",
    "        # Verifica se agente quer executar uma ação\n",
    "        if \"PAUSE\" in result and \"Action\" in result:\n",
    "            # Extrai ação usando regex\n",
    "            action = re.findall(r\"Action: ([a-z_]+): (.+)\", result, re.IGNORECASE)\n",
    "            chosen_tool = action[0][0]  # Nome da função\n",
    "            arg = action[0][1]          # Argumento\n",
    "\n",
    "            # Executa a ferramenta se ela existir\n",
    "            if chosen_tool in tools:\n",
    "                result_tool = eval(f\"{chosen_tool}('{arg}')\")\n",
    "                next_prompt = f\"Observation: {result_tool}\"\n",
    "            else:\n",
    "                next_prompt = \"Observation: Tool not found\"\n",
    "\n",
    "            print(next_prompt)\n",
    "            continue\n",
    "\n",
    "        # Para quando agente dá resposta final\n",
    "        if \"Answer\" in result:\n",
    "            break\n"
   ]
  },
  {
   "cell_type": "markdown",
   "id": "8a674a6c",
   "metadata": {},
   "source": [
    "## Exemplos de Uso"
   ]
  },
  {
   "cell_type": "code",
   "execution_count": 9,
   "id": "a14a6918",
   "metadata": {},
   "outputs": [
    {
     "name": "stdout",
     "output_type": "stream",
     "text": [
      "TESTANDO O REACT AGENT\n",
      "TESTE 1: Consultando prazo de uma atividade\n",
      "Thought: To find the deadline for activity 5, I need to first get the title of activity 5, then use this title to find its deadline.\n",
      "Action: get_activity_title: 5\n",
      "PAUSE\n",
      "Observation: Prática: Construindo um fluxo n8n(II)\n",
      "Thought: Now that I have the title of activity 5, which is \"Prática: Construindo um fluxo n8n(II)\", I can use this information to find its deadline.\n",
      "Action: get_activity_deadline: Prática: Construindo um fluxo n8n(II)\n",
      "PAUSE\n",
      "Observation: 3 dias\n",
      "Thought: I have now found the deadline for activity 5, which is \"3 dias\".\n",
      "Action: None needed, I have the answer.\n",
      "Answer: The deadline for activity 5 is 3 days.\n"
     ]
    }
   ],
   "source": [
    "# Testes com as novas perguntas\n",
    "print(\"TESTANDO O REACT AGENT\")\n",
    "print(\"TESTE 1: Consultando prazo de uma atividade\")\n",
    "# Pergunta simples sobre uma atividade\n",
    "loop(query=\"What is the deadline for activity 5?\")"
   ]
  },
  {
   "cell_type": "code",
   "execution_count": 10,
   "id": "9e46aa42",
   "metadata": {},
   "outputs": [
    {
     "name": "stdout",
     "output_type": "stream",
     "text": [
      "TESTE 2: Consultando múltiplas atividades\n",
      "----------------------------------------\n",
      "Thought: To find the total time for both activities, I need to first get the title of activity 1, then find its deadline, and do the same for activity 10. After that, I can add both deadlines together to get the total time.\n",
      "\n",
      "Action: get_activity_title: 1\n",
      "PAUSE\n",
      "Observation: Vídeo: Fundamentos de Agentes de IA (I)\n",
      "Thought: Now that I have the title of activity 1, I need to get its deadline. Then, I will repeat the process for activity 10.\n",
      "\n",
      "Action: get_activity_deadline: Vídeo: Fundamentos de Agentes de IA (I)\n",
      "PAUSEWidthSpaceSplitOptionsI will continue after this pause to get the deadline for activity 10 and calculate the total time.\n",
      "Observation: 2 dias\n",
      "Thought: Now that I have the deadline for activity 1, I need to get the title and deadline of activity 10. After that, I can add both deadlines together to get the total time.\n",
      "\n",
      "Action: get_activity_title: 10\n",
      "PAUSE\n",
      "Observation: Pratica: Multi Agentes com ADK (III)\n",
      "Thought: Now that I have the title of activity 10, I need to get its deadline. After that, I can add it to the deadline of activity 1 to get the total time.\n",
      "\n",
      "Action: get_activity_deadline: Pratica: Multi Agentes com ADK (III)\n",
      "PAUSE\n",
      "Observation: 4 dias\n",
      "Thought: Now that I have the deadlines for both activity 1 (2 dias) and activity 10 (4 dias), I can add them together to get the total time.\n",
      "\n",
      "Action: None, I have all the necessary information.\n",
      "\n",
      "The total time for both activities is 2 + 4 = 6 dias.\n",
      "\n",
      "Answer: The deadlines for activity 1 and activity 10 are 2 days and 4 days, respectively. The total time for both is 6 days.\n"
     ]
    }
   ],
   "source": [
    "print(\"TESTE 2: Consultando múltiplas atividades\")  \n",
    "print(\"-\" * 40)\n",
    "# Pergunta complexa sobre múltiplas atividades\n",
    "loop(query=\"What are the deadlines for activity 1 and activity 10? What is the total time for both?\")"
   ]
  },
  {
   "cell_type": "markdown",
   "id": "a4f144a8",
   "metadata": {},
   "source": [
    "PRINCIPAIS CONCEITOS QUE APRENDI:\n",
    "\n",
    "1. REACT = Reasoning (Thought) + Acting (Action)\n",
    "   - LLM não só gera texto, mas pode \"agir\" no mundo\n",
    "   - Cada ação é seguida de uma observação\n",
    "   - Permite resolver problemas complexos passo a passo\n",
    "\n",
    "2. SYSTEM PROMPT é fundamental\n",
    "   - Define o \"comportamento\" do agente\n",
    "   - Exemplos são cruciais para ensinar o padrão\n",
    "   - Deve ser claro e detalhado\n",
    "\n",
    "3. TOOLS expandem capacidades\n",
    "   - Funções Python que o agente pode \"chamar\"\n",
    "   - Podem acessar APIs, bancos de dados, etc.\n",
    "   - Tornam o LLM mais poderoso que apenas geração de texto\n",
    "\n",
    "4. LOOP é onde a mágica acontece\n",
    "   - Automatiza a execução das actions\n",
    "   - Simula um humano \"assistindo\" o agente trabalhar\n",
    "   - Permite iteração até encontrar a resposta\n",
    "\n",
    "5. HISTÓRICO DE CONVERSA\n",
    "   - Mantém contexto durante toda a interação\n",
    "   - Permite que o agente \"lembre\" de conversas anteriores\n",
    "   - Essencial para conversas coerentes"
   ]
  }
 ],
 "metadata": {
  "kernelspec": {
   "display_name": ".venv (3.13.3)",
   "language": "python",
   "name": "python3"
  },
  "language_info": {
   "codemirror_mode": {
    "name": "ipython",
    "version": 3
   },
   "file_extension": ".py",
   "mimetype": "text/x-python",
   "name": "python",
   "nbconvert_exporter": "python",
   "pygments_lexer": "ipython3",
   "version": "3.13.3"
  }
 },
 "nbformat": 4,
 "nbformat_minor": 5
}
