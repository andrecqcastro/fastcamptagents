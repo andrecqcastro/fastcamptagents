{
 "cells": [
  {
   "cell_type": "markdown",
   "id": "4e1e4e63",
   "metadata": {},
   "source": [
    "# ReAct Agent - Código Python com Anotações de Estudo\n"
   ]
  },
  {
   "cell_type": "markdown",
   "id": "1a2b62c5",
   "metadata": {},
   "source": [
    "Este notebook foi desenvolvido baseado no tutorial indicado Fastcamp de Agentes Inteligentes: https://www.youtube.com/watch?v=hKVhRA9kfeM\n"
   ]
  },
  {
   "cell_type": "code",
   "execution_count": 10,
   "id": "12542dea",
   "metadata": {},
   "outputs": [
    {
     "name": "stdout",
     "output_type": "stream",
     "text": [
      "Note: you may need to restart the kernel to use updated packages.\n"
     ]
    },
    {
     "name": "stderr",
     "output_type": "stream",
     "text": [
      "ERROR: Invalid requirement: '#': Expected package name at the start of dependency specifier\n",
      "    #\n",
      "    ^\n"
     ]
    }
   ],
   "source": [
    "pip install groq python-dotenv # Instale as bibliotecas necessárias"
   ]
  },
  {
   "cell_type": "code",
   "execution_count": 11,
   "id": "6656a0e6",
   "metadata": {},
   "outputs": [],
   "source": [
    "import os\n",
    "import re\n",
    "from groq import Groq\n",
    "from dotenv import load_dotenv"
   ]
  },
  {
   "cell_type": "code",
   "execution_count": 12,
   "id": "7c043094",
   "metadata": {},
   "outputs": [],
   "source": [
    "# 1. CONFIGURAÇÃO DA API GROQ\n",
    "# Carregando variáveis de ambiente do arquivo .env\n",
    "# Isso é uma boa prática para não expor chaves de API no código\n",
    "load_dotenv()\n",
    "\n",
    "# Criando o cliente da API Groq\n",
    "# IMPORTANTE: Preciso sempre ter o arquivo .env na raiz do projeto\n",
    "# com GROQ_API_KEY=minha_chave_aqui\n",
    "client = Groq(\n",
    "    api_key=os.environ.get(\"GROQ_API_KEY\"),  # Busca a chave nas variáveis de ambiente\n",
    ")"
   ]
  },
  {
   "cell_type": "code",
   "execution_count": 13,
   "id": "aec7c516",
   "metadata": {},
   "outputs": [],
   "source": [
    "class Agent:\n",
    "    \"\"\"\n",
    "    Classe principal que implementa um agente conversacional.\n",
    "    \n",
    "    - O agente mantém um histórico de conversa (self.messages)\n",
    "    - Usa o padrão __call__ para ser chamado como uma função\n",
    "    - Sempre adiciona system prompt no início\n",
    "    \"\"\"\n",
    "    \n",
    "    def __init__(self, client, system):\n",
    "        # client é a conexão com a API, system é o \"cérebro\" do agente\n",
    "        self.client = client  # Guarda a conexão com a API\n",
    "        self.system = system  # System prompt que define como o agente se comporta\n",
    "        self.messages = []    # Lista que armazena todo o histórico da conversa\n",
    "        \n",
    "        # Se tiver system prompt, adiciona como primeira mensagem\n",
    "        # DICA: O system prompt é SEMPRE a primeira mensagem da conversa\n",
    "        if self.system is not None:\n",
    "            self.messages.append({\"role\": \"system\", \"content\": self.system})"
   ]
  },
  {
   "cell_type": "code",
   "execution_count": null,
   "id": "5b7cc64d",
   "metadata": {},
   "outputs": [],
   "source": [
    "def __call__(self, message=\"\"):\n",
    "    \"\"\"\n",
    "    Método mágico que permite chamar o agente como: agent(\"pergunta\")\n",
    "    APRENDI: __call__ é o que permite fazer agent() ao invés de agent.execute()\n",
    "    \"\"\"\n",
    "    # Se enviou uma mensagem, adiciona no histórico como \"user\"\n",
    "    if message:\n",
    "        self.messages.append({\"role\": \"user\", \"content\": message})\n",
    "    \n",
    "    # Executa a chamada para a API e pega a resposta\n",
    "    result = self.execute()\n",
    "    \n",
    "    # Adiciona a resposta do agente no histórico como \"assistant\"\n",
    "    # IMPORTANTE: Sempre manter o histórico atualizado!\n",
    "    self.messages.append({\"role\": \"assistant\", \"content\": result})\n",
    "    return result"
   ]
  },
  {
   "cell_type": "code",
   "execution_count": null,
   "id": "7c3a76ec",
   "metadata": {},
   "outputs": [],
   "source": [
    "def execute(self):\n",
    "    \"\"\"\n",
    "    Faz a chamada real para a API do Groq\n",
    "    APRENDIZADO: Aqui é onde a \"mágica\" acontece - enviamos o histórico\n",
    "    e recebemos a próxima resposta do modelo\n",
    "    \"\"\"\n",
    "    completion = self.client.chat.completions.create(\n",
    "        messages=self.messages,           # Envia TODO o histórico\n",
    "        model=\"llama-3.3-70b-versatile\"  # Modelo que estamos usando\n",
    "    )\n",
    "    # Retorna apenas o texto da resposta (sem metadados)\n",
    "    return completion.choices[0].message.content"
   ]
  },
  {
   "cell_type": "markdown",
   "id": "64cda5d7",
   "metadata": {},
   "source": [
    "**Observação:** Para expandir minha prática, decidi trabalhar em um domínio diferente do abordado na videoaula. No meu código, usarei tools e um system prompt focado em tirar dúvidas sobre as tarefas do Fastcamp de Agentes Inteligentes."
   ]
  },
  {
   "cell_type": "code",
   "execution_count": 21,
   "id": "54ab69a2",
   "metadata": {},
   "outputs": [],
   "source": [
    "# CONCEITO: O system prompt é como dar um \"manual de instruções\"\n",
    "# para o agente. Ele define:\n",
    "# - Como o agente deve pensar (Thought)\n",
    "# - Quais ações pode executar (Action) \n",
    "# - Como deve pausar e aguardar resultados (PAUSE)\n",
    "# - Como processar observações (Observation)\n",
    "# - Como dar a resposta final (Answer)\n",
    "\n",
    "system_prompt = \"\"\"\n",
    "You run in a loop of Thought, Action, PAUSE, Observation.\n",
    "At the end of the loop you output an Answer\n",
    "Use Thought to describe your thoughts about the question you have been asked.\n",
    "Use Action to run one of the actions available to you - then return PAUSE.\n",
    "Observation will be the result of running those actions.\n",
    "\n",
    "Your available actions are:\n",
    "\n",
    "get_activity_title:\n",
    "e.g. get_activity_title: 1\n",
    "Returns the title of the activity from Fastcamp de Agentes Inteligentes based on the number\n",
    "\n",
    "get_activity_deadline:\n",
    "e.g. get_activity_deadline: Vídeo: Fundamentos de Agentes de IA (I)\n",
    "Returns the deadline for the activity based on its title\n",
    "\n",
    "Example session:\n",
    "\n",
    "Question: What is the deadline for activity 1?\n",
    "Thought: I need to first get the title of activity 1, then find its deadline\n",
    "Action: get_activity_title: 1\n",
    "PAUSE \n",
    "\n",
    "You will be called again with this:\n",
    "\n",
    "Observation: Vídeo: Fundamentos de Agentes de IA (I)\n",
    "\n",
    "Thought: Now I need to get the deadline for this activity\n",
    "Action: get_activity_deadline: Vídeo: Fundamentos de Agentes de IA (I)\n",
    "PAUSE\n",
    "\n",
    "You will be called again with this: \n",
    "\n",
    "Observation: 2 dias\n",
    "\n",
    "If you have the answer, output it as the Answer.\n",
    "\n",
    "Answer: The deadline for activity 1 is 2 days.\n",
    "\n",
    "Now it's your turn:\n",
    "\"\"\".strip()"
   ]
  },
  {
   "cell_type": "code",
   "execution_count": 22,
   "id": "d92cf356",
   "metadata": {},
   "outputs": [],
   "source": [
    "# CONCEITO: Tools são funções Python que o agente pode \"chamar\"\n",
    "# Elas expandem as capacidades do LLM beyond just generating text\n",
    "\n",
    "def get_activity_title(activity_number: str) -> str:\n",
    "    \"\"\"\n",
    "    TOOL 1: Busca o título da atividade pelo número\n",
    "    \n",
    "    APRENDIZADO: Esta função simula uma \"base de dados\" das atividades\n",
    "    Em um sistema real, isso poderia consultar um banco de dados\n",
    "    \"\"\"\n",
    "    # Dicionário que mapeia números para títulos das atividades\n",
    "    # DICA: Em produção, isso viria de uma API ou banco de dados\n",
    "    activities = {\n",
    "        \"1\": \"Vídeo: Fundamentos de Agentes de IA (I)\",\n",
    "        \"2\": \"Prática: Python: Criando um ReAct Agent do Zero (I)\",\n",
    "        \"3\": \"Prática: Validação de dados com Pydantic (I)\",\n",
    "        \"4\": \"Vídeo: Introdução ao n8n (II)\",\n",
    "        \"5\": \"Prática: Construindo um fluxo n8n(II)\",\n",
    "        \"6\": \"Prática: Embedding (II)\",\n",
    "        \"7\": \"Leitura: n8n (II)\",\n",
    "        \"8\": \"Pratica: Agentes com Google ADK (III)\",\n",
    "        \"9\": \"Leitura: Construindo Agentes Google ADK(III)\",\n",
    "        \"10\": \"Pratica: Multi Agentes com ADK (III)\",\n",
    "        \"11\": \"Prática: Criando agentes com ADK e Streamlit (IV)\",\n",
    "        \"12\": \"Prática: Criando agentes com n8n, ADK e Whatsapp (IV)\",\n",
    "        \"13\": \"Desafio: Orquestrando Agentes com Google ADK (IV)\",\n",
    "        \"14\": \"Prática: Projeto Final (V)\"\n",
    "    }\n",
    "    # get() é mais seguro que [], retorna valor padrão se não encontrar\n",
    "    return activities.get(activity_number, \"Atividade não encontrada\")\n",
    "\n",
    "def get_activity_deadline(activity_title: str) -> str:\n",
    "    \"\"\"\n",
    "    TOOL 2: Busca o prazo da atividade pelo título\n",
    "    \n",
    "    CONCEITO: Esta tool funciona em conjunto com a primeira\n",
    "    Isso demonstra como tools podem se complementar!\n",
    "    \"\"\"\n",
    "    # Mapeamento de títulos para prazos\n",
    "    # OBSERVAÇÃO: Note que os títulos devem ser EXATOS (case sensitive)\n",
    "    deadlines = {\n",
    "        \"Vídeo: Fundamentos de Agentes de IA (I)\": \"2 dias\",\n",
    "        \"Prática: Python: Criando um ReAct Agent do Zero (I)\": \"4 dias\",\n",
    "        \"Prática: Validação de dados com Pydantic (I)\": \"4 dias\",\n",
    "        \"Vídeo: Introdução ao n8n (II)\": \"3 dias\",\n",
    "        \"Prática: Construindo um fluxo n8n(II)\": \"3 dias\",\n",
    "        \"Prática: Embedding (II)\": \"3 dias\",\n",
    "        \"Leitura: n8n (II)\": \"3 dias\",\n",
    "        \"Pratica: Agentes com Google ADK (III)\": \"4 dias\",\n",
    "        \"Leitura: Construindo Agentes Google ADK(III)\": \"2 dias\",\n",
    "        \"Pratica: Multi Agentes com ADK (III)\": \"4 dias\",\n",
    "        \"Prática: Criando agentes com ADK e Streamlit (IV)\": \"4 dias\",\n",
    "        \"Prática: Criando agentes com n8n, ADK e Whatsapp (IV)\": \"3 dias\",\n",
    "        \"Desafio: Orquestrando Agentes com Google ADK (IV)\": \"5 dias\",\n",
    "        \"Prática: Projeto Final (V)\": \"7 dias\"\n",
    "    }\n",
    "    return deadlines.get(activity_title, \"Prazo não encontrado\")\n"
   ]
  },
  {
   "cell_type": "code",
   "execution_count": 24,
   "id": "9aab63f5",
   "metadata": {},
   "outputs": [],
   "source": [
    "def loop(max_iterations=10, query: str = \"\"):\n",
    "    \"\"\"\n",
    "    Esta função implementa o CORE do ReAct: o loop automático\n",
    "    \n",
    "    FLUXO:\n",
    "    1. Agente recebe pergunta\n",
    "    2. Agente pensa (Thought)\n",
    "    3. Agente decide uma ação (Action) e pausa (PAUSE)\n",
    "    4. Nós executamos a ação e retornamos observação (Observation)\n",
    "    5. Repete até ter resposta final (Answer)\n",
    "    \n",
    "    ISSO É REVOLUCIONÁRIO! O LLM não apenas gera texto, mas \"age\" no mundo!\n",
    "    \"\"\"\n",
    "    \n",
    "    # Cria uma nova instância do agente para cada consulta\n",
    "    # IMPORTANTE: Cada consulta tem seu próprio histórico limpo\n",
    "    agent = Agent(client=client, system=system_prompt)\n",
    "    \n",
    "    # Lista das tools disponíveis - precisa bater com os nomes das funções!\n",
    "    tools = [\"get_activity_title\", \"get_activity_deadline\"]\n",
    "    \n",
    "    next_prompt = query  # Primeira mensagem é a pergunta do usuário\n",
    "    i = 0  # Contador de iterações para evitar loops infinitos\n",
    "  \n",
    "    while i < max_iterations:\n",
    "        i += 1\n",
    "        \n",
    "        # Envia a mensagem para o agente e recebe resposta\n",
    "        result = agent(next_prompt)\n",
    "        print(result)  # Mostra o que o agente está \"pensando\"\n",
    "\n",
    "        # PADRÃO REACT: Verifica se agente quer executar uma ação\n",
    "        if \"PAUSE\" in result and \"Action\" in result:\n",
    "            # USA REGEX para extrair a ação! Isso é muito inteligente\n",
    "            # Busca padrão: \"Action: nome_da_funcao: argumento\"\n",
    "            action = re.findall(r\"Action: ([a-z_]+): (.+)\", result, re.IGNORECASE)\n",
    "            \n",
    "            if action:  # Se encontrou uma ação válida\n",
    "                chosen_tool = action[0][0]  # Nome da função\n",
    "                arg = action[0][1]          # Argumento para a função\n",
    "\n",
    "                # Executa a tool SE ela existir na nossa lista\n",
    "                if chosen_tool in tools:\n",
    "                    # EVAL é perigoso em produção, mas funciona para estudo!\n",
    "                    # Em produção, usaria um dispatcher mais seguro\n",
    "                    result_tool = eval(f\"{chosen_tool}('{arg}')\")\n",
    "                    next_prompt = f\"Observation: {result_tool}\"\n",
    "                else:\n",
    "                    next_prompt = \"Observation: Tool not found\"\n",
    "\n",
    "                print(next_prompt)  # Mostra o resultado da tool\n",
    "                continue  # Volta para o início do loop\n",
    "\n",
    "        # CONDIÇÃO DE PARADA: Agente deu resposta final\n",
    "        if \"Answer\" in result:\n",
    "            break  # Sai do loop, missão cumprida!"
   ]
  },
  {
   "cell_type": "markdown",
   "id": "8a674a6c",
   "metadata": {},
   "source": [
    "## Exemplos de Uso"
   ]
  },
  {
   "cell_type": "code",
   "execution_count": 25,
   "id": "9e46aa42",
   "metadata": {},
   "outputs": [
    {
     "name": "stdout",
     "output_type": "stream",
     "text": [
      "TESTANDO O REACT AGENT\n",
      "Criado durante os estudos do Fastcamp de Agentes Inteligentes\n",
      "============================================================\n",
      "TESTE 1: Consultando prazo de uma atividade\n",
      "----------------------------------------\n"
     ]
    },
    {
     "ename": "TypeError",
     "evalue": "'Agent' object is not callable",
     "output_type": "error",
     "traceback": [
      "\u001b[31m---------------------------------------------------------------------------\u001b[39m",
      "\u001b[31mTypeError\u001b[39m                                 Traceback (most recent call last)",
      "\u001b[36mCell\u001b[39m\u001b[36m \u001b[39m\u001b[32mIn[25]\u001b[39m\u001b[32m, line 8\u001b[39m\n\u001b[32m      6\u001b[39m \u001b[38;5;28mprint\u001b[39m(\u001b[33m\"\u001b[39m\u001b[33mTESTE 1: Consultando prazo de uma atividade\u001b[39m\u001b[33m\"\u001b[39m)\n\u001b[32m      7\u001b[39m \u001b[38;5;28mprint\u001b[39m(\u001b[33m\"\u001b[39m\u001b[33m-\u001b[39m\u001b[33m\"\u001b[39m * \u001b[32m40\u001b[39m)\n\u001b[32m----> \u001b[39m\u001b[32m8\u001b[39m \u001b[43mloop\u001b[49m\u001b[43m(\u001b[49m\u001b[43mquery\u001b[49m\u001b[43m=\u001b[49m\u001b[33;43m\"\u001b[39;49m\u001b[33;43mWhat is the deadline for activity 5?\u001b[39;49m\u001b[33;43m\"\u001b[39;49m\u001b[43m)\u001b[49m\n\u001b[32m     10\u001b[39m \u001b[38;5;28mprint\u001b[39m(\u001b[33m\"\u001b[39m\u001b[38;5;130;01m\\n\u001b[39;00m\u001b[33m\"\u001b[39m + \u001b[33m\"\u001b[39m\u001b[33m=\u001b[39m\u001b[33m\"\u001b[39m * \u001b[32m60\u001b[39m + \u001b[33m\"\u001b[39m\u001b[38;5;130;01m\\n\u001b[39;00m\u001b[33m\"\u001b[39m)\n\u001b[32m     12\u001b[39m \u001b[38;5;66;03m# TESTE 2: Pergunta complexa que precisa de múltiplas tools\u001b[39;00m\n",
      "\u001b[36mCell\u001b[39m\u001b[36m \u001b[39m\u001b[32mIn[24]\u001b[39m\u001b[32m, line 29\u001b[39m, in \u001b[36mloop\u001b[39m\u001b[34m(max_iterations, query)\u001b[39m\n\u001b[32m     26\u001b[39m i += \u001b[32m1\u001b[39m\n\u001b[32m     28\u001b[39m \u001b[38;5;66;03m# Envia a mensagem para o agente e recebe resposta\u001b[39;00m\n\u001b[32m---> \u001b[39m\u001b[32m29\u001b[39m result = \u001b[43magent\u001b[49m\u001b[43m(\u001b[49m\u001b[43mnext_prompt\u001b[49m\u001b[43m)\u001b[49m\n\u001b[32m     30\u001b[39m \u001b[38;5;28mprint\u001b[39m(result)  \u001b[38;5;66;03m# Mostra o que o agente está \"pensando\"\u001b[39;00m\n\u001b[32m     32\u001b[39m \u001b[38;5;66;03m# PADRÃO REACT: Verifica se agente quer executar uma ação\u001b[39;00m\n",
      "\u001b[31mTypeError\u001b[39m: 'Agent' object is not callable"
     ]
    }
   ],
   "source": [
    "print(\"TESTANDO O REACT AGENT\")\n",
    "print(\"Criado durante os estudos do Fastcamp de Agentes Inteligentes\")\n",
    "print(\"=\" * 60)\n",
    "\n",
    "# TESTE 1: Pergunta simples\n",
    "print(\"TESTE 1: Consultando prazo de uma atividade\")\n",
    "print(\"-\" * 40)\n",
    "loop(query=\"What is the deadline for activity 5?\")\n",
    "\n",
    "print(\"\\n\" + \"=\" * 60 + \"\\n\")\n",
    "\n",
    "# TESTE 2: Pergunta complexa que precisa de múltiplas tools\n",
    "print(\"TESTE 2: Consultando múltiplas atividades\")\n",
    "print(\"-\" * 40)\n",
    "loop(query=\"What are the deadlines for activity 1 and activity 10? What is the total time for both?\")\n",
    "\n",
    "print(\"\\n\" + \"=\" * 60)\n",
    "print(\"Testes concluídos! O agente ReAct está funcionando!\")"
   ]
  },
  {
   "cell_type": "markdown",
   "id": "a4f144a8",
   "metadata": {},
   "source": [
    "PRINCIPAIS CONCEITOS QUE APRENDI:\n",
    "\n",
    "1. REACT = Reasoning (Thought) + Acting (Action)\n",
    "   - LLM não só gera texto, mas pode \"agir\" no mundo\n",
    "   - Cada ação é seguida de uma observação\n",
    "   - Permite resolver problemas complexos passo a passo\n",
    "\n",
    "2. SYSTEM PROMPT é fundamental\n",
    "   - Define o \"comportamento\" do agente\n",
    "   - Exemplos são cruciais para ensinar o padrão\n",
    "   - Deve ser claro e detalhado\n",
    "\n",
    "3. TOOLS expandem capacidades\n",
    "   - Funções Python que o agente pode \"chamar\"\n",
    "   - Podem acessar APIs, bancos de dados, etc.\n",
    "   - Tornam o LLM mais poderoso que apenas geração de texto\n",
    "\n",
    "4. LOOP é onde a mágica acontece\n",
    "   - Automatiza a execução das actions\n",
    "   - Simula um humano \"assistindo\" o agente trabalhar\n",
    "   - Permite iteração até encontrar a resposta\n",
    "\n",
    "5. HISTÓRICO DE CONVERSA\n",
    "   - Mantém contexto durante toda a interação\n",
    "   - Permite que o agente \"lembre\" de conversas anteriores\n",
    "   - Essencial para conversas coerentes"
   ]
  }
 ],
 "metadata": {
  "kernelspec": {
   "display_name": ".venv (3.13.3)",
   "language": "python",
   "name": "python3"
  },
  "language_info": {
   "codemirror_mode": {
    "name": "ipython",
    "version": 3
   },
   "file_extension": ".py",
   "mimetype": "text/x-python",
   "name": "python",
   "nbconvert_exporter": "python",
   "pygments_lexer": "ipython3",
   "version": "3.13.3"
  }
 },
 "nbformat": 4,
 "nbformat_minor": 5
}
